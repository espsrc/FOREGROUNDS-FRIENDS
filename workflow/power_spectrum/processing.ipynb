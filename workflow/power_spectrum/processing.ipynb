{
 "cells": [
  {
   "cell_type": "code",
   "execution_count": null,
   "id": "80457212",
   "metadata": {},
   "outputs": [],
   "source": [
    "from IPython.display import display, HTML\n",
    "display(HTML(\"<style>.container { width:80% !important; }</style>\"))"
   ]
  },
  {
   "cell_type": "markdown",
   "id": "e8d787cd",
   "metadata": {},
   "source": [
    "# Dataset processing"
   ]
  },
  {
   "cell_type": "code",
   "execution_count": null,
   "id": "1c93683f",
   "metadata": {},
   "outputs": [],
   "source": [
    "import numpy as np\n",
    "from astropy.io import fits\n",
    "import configparser"
   ]
  },
  {
   "cell_type": "code",
   "execution_count": null,
   "id": "c8cfd525",
   "metadata": {},
   "outputs": [],
   "source": [
    "config_object = configparser.ConfigParser()\n",
    "with open(\"process_config.ini\",\"r\") as file_object:\n",
    "    config_object.read_file(file_object)\n",
    "    path = config_object.get(\"path\",\"path\")\n",
    "    save = config_object.get(\"path\",\"save\")\n",
    "    general = config_object.get(\"path\",\"general\")\n",
    "    nbins_freq = int(config_object.get(\"params\",\"nbins_freq\"))\n",
    "    freqs = np.linspace(float(config_object.get(\"params\",\"min_freq\")),\n",
    "                        float(config_object.get(\"params\",\"max_freq\")), nbins_freq+1)"
   ]
  },
  {
   "cell_type": "code",
   "execution_count": null,
   "id": "a348148f",
   "metadata": {},
   "outputs": [],
   "source": [
    "file = fits.open(general)\n",
    "general_header = file['PRIMARY'].header\n",
    "general_shape = file['PRIMARY'].data.shape\n",
    "# read data from a single cube\n",
    "if path == 'general':\n",
    "    data = file['PRIMARY'].data\n",
    "file.close()\n",
    "# read data from various 2D images (for polyfit)\n",
    "if path != 'general':\n",
    "    data = np.zeros(general_shape)\n",
    "    for i in range(general_shape[0]):\n",
    "        with fits.open(path+'_%s.fits'%i) as file:\n",
    "            data[i,:,:] = file['PRIMARY'].data\n",
    "        if i%100 == 0:\n",
    "            print(i)"
   ]
  },
  {
   "cell_type": "markdown",
   "id": "e8571c0b",
   "metadata": {},
   "source": [
    "The next cell calculates the number of frequency channels in each bin, and in case the cube cannot be divided in equal bins, saves the remainder to add it in the last bin."
   ]
  },
  {
   "cell_type": "code",
   "execution_count": null,
   "id": "80a5c7b4",
   "metadata": {},
   "outputs": [],
   "source": [
    "remainder = general_shape[0]%nbins_freq\n",
    "width = int((general_shape[0]-reminder)/nbins_freq)"
   ]
  },
  {
   "cell_type": "code",
   "execution_count": null,
   "id": "e45363f4",
   "metadata": {},
   "outputs": [],
   "source": [
    "for i in range(nbins_freq):\n",
    "    header = general_header\n",
    "    \n",
    "    header['SIMPLE'] = ('T', 'file does conform to FITS standard')            \n",
    "    header['BITPIX'] = (-32, 'number of bits per data pixel')\n",
    "    header['CRVAL3'] = freqs[i]*1e6\n",
    "    if i != nbins_freq-1:\n",
    "        header['NAXIS3'] = (width, 'length of data axis 3')\n",
    "        hdu = fits.PrimaryHDU(data=data[i*(width+1)-i:(width+1)*(i+1)-(i+1)].astype(np.float32), header=header)\n",
    "    else:\n",
    "        header['NAXIS3'] = (width+reminder, 'length of data axis 3')\n",
    "        hdu = fits.PrimaryHDU(data=data[i*(width+1)-i:(width+1+reminder)*(i+1)-(i+1)].astype(np.float32), header=header)\n",
    "    hdu.writeto(save+'_%sMHz-%sMHz.fits'%(freqs[i],freqs[i+1]))\n",
    "    print(i)"
   ]
  },
  {
   "cell_type": "code",
   "execution_count": null,
   "id": "29b1b73e",
   "metadata": {},
   "outputs": [],
   "source": []
  }
 ],
 "metadata": {
  "kernelspec": {
   "display_name": "Python 3 (ipykernel)",
   "language": "python",
   "name": "python3"
  },
  "language_info": {
   "codemirror_mode": {
    "name": "ipython",
    "version": 3
   },
   "file_extension": ".py",
   "mimetype": "text/x-python",
   "name": "python",
   "nbconvert_exporter": "python",
   "pygments_lexer": "ipython3",
   "version": "3.11.3"
  }
 },
 "nbformat": 4,
 "nbformat_minor": 5
}
