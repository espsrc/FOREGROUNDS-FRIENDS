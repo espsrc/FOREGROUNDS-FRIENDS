{
 "cells": [
  {
   "cell_type": "code",
   "execution_count": 1,
   "id": "0a34b6e3",
   "metadata": {},
   "outputs": [
    {
     "data": {
      "text/html": [
       "<style>.container { width:80% !important; }</style>"
      ],
      "text/plain": [
       "<IPython.core.display.HTML object>"
      ]
     },
     "metadata": {},
     "output_type": "display_data"
    }
   ],
   "source": [
    "from IPython.display import display, HTML\n",
    "display(HTML(\"<style>.container { width:80% !important; }</style>\"))"
   ]
  },
  {
   "cell_type": "markdown",
   "id": "b6355d85",
   "metadata": {},
   "source": [
    "# 2D power spectrum estimation"
   ]
  },
  {
   "cell_type": "markdown",
   "id": "a4ae295f",
   "metadata": {},
   "source": [
    "This notebook is used to estimate the cylindrical power spectrum from one or more data cubes."
   ]
  },
  {
   "cell_type": "markdown",
   "id": "72601996",
   "metadata": {},
   "source": [
    "First, we import required modules and define a function to calculate the PS (see *PS estimation with ps_eor* notebook for detailed info)."
   ]
  },
  {
   "cell_type": "code",
   "execution_count": 2,
   "id": "593e98c0",
   "metadata": {},
   "outputs": [],
   "source": [
    "import os\n",
    "import configparser\n",
    "import numpy as np\n",
    "from ps_eor import psutil, datacube, pspec\n",
    "import matplotlib.pyplot as plt\n",
    "import astropy.units as u\n",
    "import matplotlib.pyplot as plt"
   ]
  },
  {
   "cell_type": "code",
   "execution_count": 3,
   "id": "03dc3a94",
   "metadata": {},
   "outputs": [],
   "source": [
    "def calc_all_ps(impath, psfpath, savepath, team, freqs, min_b, max_b, fov, int_time, tot_time, nbins_per, nbins_par, binmin, binmax, replace_freq=True):\n",
    "    os.makedirs(savepath, exist_ok=True)\n",
    "    for i in range(len(freqs)-1):\n",
    "        print('----- Bin %s -----'%i)\n",
    "        # read parameters\n",
    "        if replace_freq:\n",
    "            image = impath+'_%sMHz-%sMHz.fits'%(freqs[i],freqs[i+1])\n",
    "        else:\n",
    "            if i != len(freqs)-2:\n",
    "                image = impath+'_%sMHz-%sMHz.fits'%(str(i*150),str((i+1)*150))\n",
    "            else:\n",
    "                image = impath+'_%sMHz-%sMHz.fits'%(str(i*150),str((i+1)*150+1))\n",
    "        psf = psfpath+'_%sMHz-%sMHz.fits'%(freqs[i],freqs[i+1])\n",
    "        data_cube = datacube.CartDataCube.load_from_fits_image_and_psf([image],\n",
    "                [psf], min_b, max_b, fov,\n",
    "                        use_wscnormf=False, int_time=int_time, total_time=tot_time,\n",
    "                        window_function=datacube.WindowFunction(('tukey', 0.2)))\n",
    "        \n",
    "        # define el\n",
    "        z = psutil.freq_to_z((freqs[i]+freqs[i+1])/2*1e6) # give in Hz\n",
    "        el = psutil.k_to_l(np.linspace(binmin, binmax, nbins_per), z)\n",
    "\n",
    "        #this is the number of bins we would get using the bins from data_cube.freqs\n",
    "        calc_k_par = len(psutil.delay_to_k(psutil.get_delay(data_cube.freqs), z))-1 \n",
    "        par_binmax = (binmax-binmin)/(nbins_par-1)*calc_k_par #get more than binmax for better calculation\n",
    "        mfreq = (freqs[i]+freqs[i+1]) * 1e6 / 2  # in Hz\n",
    "        delay = psutil.k_to_delay(np.linspace(binmin, par_binmax, calc_k_par), z)\n",
    "        fwidth = 2*calc_k_par / ((delay[1]-delay[0])*(2*calc_k_par+1))\n",
    "        freqbins = np.linspace(mfreq - fwidth/2, mfreq + fwidth/2, calc_k_par*2+1)\n",
    "\n",
    "        # estimate ps\n",
    "        eor = pspec.EorBin(1, freqbins, freqbins, M=len(freqbins))\n",
    "        ps_conf = pspec.PowerSpectraConfig(el, window_fct='blackmanharris')\n",
    "        pb = datacube.SkaLowPrimaryBeam()\n",
    "        ps_gen = pspec.PowerSpectraCart(eor, ps_conf, pb)\n",
    "        ps2d = ps_gen.get_ps2d(data_cube)\n",
    "\n",
    "        np.savetxt(f'{savepath}{team}_{freqs[i]}MHz-{freqs[i+1]}MHz.data', ps2d.data[:nbins_par, :nbins_per], fmt='%.8g')\n",
    "        np.savetxt(f'{savepath}{team}_{freqs[i]}MHz-{freqs[i+1]}MHz_errors.data', ps2d.err[:nbins_par, :nbins_per], fmt='%.8g')"
   ]
  },
  {
   "cell_type": "markdown",
   "id": "79ff18b7",
   "metadata": {},
   "source": [
    "Next, we will read the parameters from the configuration file (*ps_config.ini*)"
   ]
  },
  {
   "cell_type": "code",
   "execution_count": 4,
   "id": "af32af69",
   "metadata": {},
   "outputs": [],
   "source": [
    "config_object = configparser.ConfigParser()\n",
    "with open(\"ps_config.ini\",\"r\") as file_object:\n",
    "    config_object.read_file(file_object)\n",
    "    # read paths\n",
    "    impath = config_object.get(\"path\",\"image\")\n",
    "    psfpath = config_object.get(\"path\",\"psf\")\n",
    "    savepath = config_object.get(\"path\",\"save\")\n",
    "    team = config_object.get(\"path\",\"team\")\n",
    "    # read params\n",
    "    min_b = float(config_object.get(\"params\",\"min_b\"))\n",
    "    max_b = float(config_object.get(\"params\",\"max_b\"))\n",
    "    fov = np.deg2rad(float(config_object.get(\"params\",\"fov\")))\n",
    "    int_time = float(config_object.get(\"params\",\"int_time\"))\n",
    "    tot_time = float(config_object.get(\"params\",\"tot_time\"))\n",
    "    freqs = np.linspace(float(config_object.get(\"params\",\"min_freq\")), float(config_object.get(\"params\",\"max_freq\")), int(config_object.get(\"params\",\"nbins_freq\"))+1)\n",
    "    nbins_per = int(config_object.get(\"params\",\"nbins_per\"))\n",
    "    nbins_par = int(config_object.get(\"params\",\"nbins_par\"))\n",
    "    binmin = float(config_object.get(\"params\",\"binmin\"))\n",
    "    binmax = float(config_object.get(\"params\",\"binmax\"))\n",
    "    # read cosmological parameters\n",
    "    H0 = float(config_object.get(\"cosmo\",\"H0\"))\n",
    "    Om0 = float(config_object.get(\"cosmo\",\"Om0\"))"
   ]
  },
  {
   "cell_type": "markdown",
   "id": "487ebd5f",
   "metadata": {},
   "source": [
    "We set the cosmological parameters. **ps_eor** uses the *Planck15* best fit, so it must be changed."
   ]
  },
  {
   "cell_type": "code",
   "execution_count": 5,
   "id": "070ffbf0",
   "metadata": {},
   "outputs": [],
   "source": [
    "from astropy.cosmology import FlatLambdaCDM\n",
    "new_cosmo = FlatLambdaCDM(H0=H0, Om0=Om0)\n",
    "\n",
    "psutil.set_cosmology(new_cosmo)"
   ]
  },
  {
   "cell_type": "markdown",
   "id": "89bbb5f7",
   "metadata": {},
   "source": [
    "Finally, we run the function. This will create a set of files with the PS at the required frequency bins, with the SDC3 submission format; another set with the errors at the same format."
   ]
  },
  {
   "cell_type": "code",
   "execution_count": 6,
   "id": "a3cf0599",
   "metadata": {
    "scrolled": true
   },
   "outputs": [
    {
     "name": "stdout",
     "output_type": "stream",
     "text": [
      " Progress: 1 / 1 (Total: 0.00 s) \n",
      " Progress: 1 / 1 (Total: 0.00 s) \n",
      "Filtering 146801 modes (72.49 %)\n",
      " Progress: 1 / 1 (Total: 0.00 s) \n",
      " Progress: 1 / 1 (Total: 0.00 s) \n",
      "Filtering 146159 modes (72.18 %)\n",
      " Progress: 1 / 1 (Total: 0.00 s) \n",
      " Progress: 1 / 1 (Total: 0.00 s) \n",
      "Filtering 145281 modes (71.74 %)\n",
      " Progress: 1 / 1 (Total: 0.00 s) \n",
      " Progress: 1 / 1 (Total: 0.00 s) \n",
      "Filtering 146617 modes (72.40 %)\n",
      " Progress: 1 / 1 (Total: 0.00 s) \n",
      " Progress: 1 / 1 (Total: 0.00 s) \n",
      "Filtering 145045 modes (71.63 %)\n",
      " Progress: 1 / 1 (Total: 0.00 s) \n",
      " Progress: 1 / 1 (Total: 0.00 s) \n",
      "Filtering 144923 modes (71.57 %)\n"
     ]
    }
   ],
   "source": [
    "calc_all_ps(impath, psfpath, savepath, team, freqs, min_b, max_b, fov, int_time, tot_time, nbins_per, nbins_par, binmin, binmax, replace_freq=True)"
   ]
  },
  {
   "cell_type": "code",
   "execution_count": null,
   "id": "ab6e3ade",
   "metadata": {},
   "outputs": [],
   "source": []
  }
 ],
 "metadata": {
  "kernelspec": {
   "display_name": "Python 3 (ipykernel)",
   "language": "python",
   "name": "python3"
  },
  "language_info": {
   "codemirror_mode": {
    "name": "ipython",
    "version": 3
   },
   "file_extension": ".py",
   "mimetype": "text/x-python",
   "name": "python",
   "nbconvert_exporter": "python",
   "pygments_lexer": "ipython3",
   "version": "3.9.18"
  }
 },
 "nbformat": 4,
 "nbformat_minor": 5
}
