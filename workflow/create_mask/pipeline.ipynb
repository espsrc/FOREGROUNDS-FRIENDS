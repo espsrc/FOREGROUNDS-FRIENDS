{
 "cells": [
  {
   "cell_type": "markdown",
   "metadata": {},
   "source": [
    "## Requirements check"
   ]
  },
  {
   "cell_type": "code",
   "execution_count": null,
   "metadata": {},
   "outputs": [],
   "source": [
    "# Import the required Python packages\n",
    "import numpy\n",
    "import astropy\n",
    "import matplotlib\n",
    "import PIL\n",
    "import yaml"
   ]
  },
  {
   "cell_type": "code",
   "execution_count": null,
   "metadata": {},
   "outputs": [],
   "source": [
    "# Check sextractor is installed\n",
    "from shutil import which\n",
    "assert which(\"sex\") is not None"
   ]
  },
  {
   "cell_type": "markdown",
   "metadata": {},
   "source": [
    "If the cell above errors out, refer to Requirements.md."
   ]
  },
  {
   "cell_type": "markdown",
   "metadata": {},
   "source": [
    "## Read configuration file"
   ]
  },
  {
   "cell_type": "code",
   "execution_count": null,
   "metadata": {},
   "outputs": [],
   "source": [
    "# Read the list of notebooks from a YAML file\n",
    "with open('../../../config/config.yml', 'r') as f:\n",
    "    config = yaml.safe_load(f)\n",
    "\n",
    "# Access the values\n",
    "data_cube = config['paths']['data_cube']\n",
    "\n",
    "# Print the values\n",
    "print(f'Data Cube: {data_cube}')"
   ]
  },
  {
   "cell_type": "markdown",
   "metadata": {},
   "source": [
    "## Data cube information"
   ]
  },
  {
   "cell_type": "markdown",
   "metadata": {},
   "source": [
    "This pipeline is meant to be used on 3D data cubes, where the third dimension is the frequency of observation. The two variables in the next code block represent the frequency of the first observation, and the increase between observations.\n",
    "\n",
    "If they're not known, they can be found by reading the FITS file's header:\n",
    "\n",
    "```python\n",
    "from astropy.io import fits\n",
    "hdulist = fits.open(data_cube)\n",
    "hdulist.info()\n",
    "hdulist[0].header\n",
    "```"
   ]
  },
  {
   "cell_type": "code",
   "execution_count": null,
   "metadata": {},
   "outputs": [],
   "source": [
    "initial_frequency = 106000\n",
    "frequency_step = 100"
   ]
  },
  {
   "cell_type": "markdown",
   "metadata": {},
   "source": [
    "## Execute sextractor"
   ]
  },
  {
   "cell_type": "markdown",
   "metadata": {},
   "source": [
    "The code cells in this section run sextractor on each of the data cube's layers.\n",
    "\n",
    "Source detection parameters are defined in `default.sex`, available in this folder. They have been chosen for best performance on the SDC3 sample data cube. For better adaptation to different data cubes, the parameters can be modified by editing the file.\n",
    "\n",
    "The output columns for the point source catalog are defined in `default.param`. Additional parameters can be added, although it should be noted that including photometry parameters increases execution time by a factor of 10. All available columns are listed [here](https://sextractor.readthedocs.io/en/latest/Param.html)."
   ]
  },
  {
   "cell_type": "code",
   "execution_count": null,
   "metadata": {},
   "outputs": [],
   "source": [
    "from astropy.io import fits\n",
    "import os, subprocess\n",
    "\n",
    "hdulist = fits.open(data_cube)\n",
    "\n",
    "header = hdulist[0].header\n",
    "data = hdulist[0].data\n",
    "\n",
    "layers = len(data)\n",
    "# If the cube contains a single layer this process is unnecessary\n",
    "assert layers > 1       \n",
    "\n",
    "if not os.path.exists(\"results\"):\n",
    "    os.makedirs(\"results\")"
   ]
  },
  {
   "cell_type": "code",
   "execution_count": null,
   "metadata": {},
   "outputs": [],
   "source": [
    "# Run sextractor on each layer (may take several minutes)\n",
    "\n",
    "for layer in range(layers):\n",
    "    frequency = initial_frequency + frequency_step*layer\n",
    "    layer_data = data[layer]\n",
    "    \n",
    "    # Create FITS file with only one layer\n",
    "    hdu = fits.PrimaryHDU(layer_data, header=header)\n",
    "    new_hdulist = fits.HDUList([hdu])\n",
    "    new_hdulist.writeto(\"temp.fits\", overwrite=True)\n",
    "    new_hdulist.close()\n",
    "\n",
    "    # Run sextractor on this file\n",
    "    command = f\"sex temp.fits -CATALOG_NAME results/results{frequency}kHz.cat\"\n",
    "    subprocess.run(command, shell=True, check=True)\n",
    "\n",
    "os.remove(\"temp.fits\")"
   ]
  },
  {
   "cell_type": "markdown",
   "metadata": {},
   "source": [
    "## Source count"
   ]
  },
  {
   "cell_type": "markdown",
   "metadata": {},
   "source": [
    "As a sanity check on results, we graph the number of point sources found for each frequency."
   ]
  },
  {
   "cell_type": "code",
   "execution_count": null,
   "metadata": {},
   "outputs": [],
   "source": [
    "import os\n",
    "catalogs = os.scandir(\"results\")\n",
    "\n",
    "num_sources = []\n",
    "\n",
    "for catalog in catalogs:\n",
    "    with open(catalog) as f:\n",
    "        num_sources.append(sum(1 for line in f if not line.strip().startswith('#')))\n",
    "\n",
    "frequencies = range(initial_frequency, initial_frequency+frequency_step*layers, frequency_step)"
   ]
  },
  {
   "cell_type": "code",
   "execution_count": null,
   "metadata": {},
   "outputs": [],
   "source": [
    "sum(num_sources)/len(num_sources)"
   ]
  },
  {
   "cell_type": "code",
   "execution_count": null,
   "metadata": {},
   "outputs": [],
   "source": [
    "import matplotlib.pyplot as plt\n",
    "\n",
    "plt.plot(frequencies, num_sources)\n",
    "plt.xlabel('Frequency (kHz)')\n",
    "plt.ylabel('Number of sources')\n",
    "plt.show()"
   ]
  }
 ],
 "metadata": {
  "kernelspec": {
   "display_name": "Python 3 (ipykernel)",
   "language": "python",
   "name": "python3"
  },
  "language_info": {
   "codemirror_mode": {
    "name": "ipython",
    "version": 3
   },
   "file_extension": ".py",
   "mimetype": "text/x-python",
   "name": "python",
   "nbconvert_exporter": "python",
   "pygments_lexer": "ipython3",
   "version": "3.9.18"
  }
 },
 "nbformat": 4,
 "nbformat_minor": 4
}
