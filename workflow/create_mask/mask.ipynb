{
 "cells": [
  {
   "cell_type": "markdown",
   "metadata": {},
   "source": [
    "## Requirements check"
   ]
  },
  {
   "cell_type": "code",
   "execution_count": null,
   "metadata": {},
   "outputs": [],
   "source": [
    "# Import the required Python packages\n",
    "import astropy\n",
    "import numpy\n",
    "import matplotlib\n",
    "import PIL\n",
    "import yaml"
   ]
  },
  {
   "cell_type": "markdown",
   "metadata": {},
   "source": [
    "If the cell above errors out, refer to `Requirements.md`."
   ]
  },
  {
   "cell_type": "markdown",
   "metadata": {},
   "source": [
    "## Read configuration file"
   ]
  },
  {
   "cell_type": "code",
   "execution_count": null,
   "metadata": {},
   "outputs": [],
   "source": [
    "# Read the list of notebooks from a YAML file\n",
    "with open('../../../config/config.yml', 'r') as f:\n",
    "    config = yaml.safe_load(f)\n",
    "\n",
    "# Access the values\n",
    "data_cube = config['paths']['data_cube']\n",
    "\n",
    "# Print the values\n",
    "print(f'Data Cube: {data_cube}')"
   ]
  },
  {
   "cell_type": "markdown",
   "metadata": {},
   "source": [
    "## Data cube information"
   ]
  },
  {
   "cell_type": "markdown",
   "metadata": {},
   "source": [
    "This pipeline is meant to be used on 3D data cubes, where the third dimension is the frequency of observation. The two first variables in the next code block represent the frequency of the first observation, and the increase between observations. The next three variables are the cube's dimensions.\n",
    "\n",
    "If they're not known, they can be found by reading the FITS file's header:\n",
    "\n",
    "```python\n",
    "from astropy.io import fits\n",
    "hdulist = fits.open(data_cube)\n",
    "hdulist.info()\n",
    "hdulist[0].header\n",
    "```"
   ]
  },
  {
   "cell_type": "code",
   "execution_count": null,
   "metadata": {},
   "outputs": [],
   "source": [
    "initial_frequency = 106000\n",
    "frequency_step = 100\n",
    "\n",
    "num_layers = 901\n",
    "image_width = 2048\n",
    "image_height = 2048"
   ]
  },
  {
   "cell_type": "markdown",
   "metadata": {},
   "source": [
    "In order to mask the point sources, their positions must be known. This notebook assumes that point source catalogs are available on folder `results`. Otherwise, they can be created by running `pipeline.ipynb`.\n",
    "\n",
    "The next two variables are the (zero-indexed) positions of the X and Y coordinates of the sources (X_IMAGE and Y_IMAGE) in the parameter list of the catalog. For example, if `default.param` is:\n",
    "\n",
    "```\n",
    "NUMBER\n",
    "X_IMAGE\n",
    "Y_IMAGE\n",
    "X_WORLD\n",
    "Y_WORLD\n",
    "```\n",
    "\n",
    "`pos_x_image` should be set to 1, and `pos_y_image` to 2."
   ]
  },
  {
   "cell_type": "code",
   "execution_count": null,
   "metadata": {},
   "outputs": [],
   "source": [
    "pos_x_image = 1\n",
    "pos_y_image = 2"
   ]
  },
  {
   "cell_type": "markdown",
   "metadata": {},
   "source": [
    "We blank out sources by covering them with a circle, whose radius is fixed by the parameter below."
   ]
  },
  {
   "cell_type": "code",
   "execution_count": null,
   "metadata": {},
   "outputs": [],
   "source": [
    "galaxy_radius = 8 "
   ]
  },
  {
   "cell_type": "markdown",
   "metadata": {},
   "source": [
    "After all the above variables can be set, the notebook can be ran unattended."
   ]
  },
  {
   "cell_type": "markdown",
   "metadata": {},
   "source": [
    "## Mask"
   ]
  },
  {
   "cell_type": "code",
   "execution_count": null,
   "metadata": {},
   "outputs": [],
   "source": [
    "from astropy.io import fits\n",
    "\n",
    "hdulist = fits.open(data_cube)\n",
    "\n",
    "header = hdulist[0].header\n",
    "data = hdulist[0].data"
   ]
  },
  {
   "cell_type": "markdown",
   "metadata": {},
   "source": [
    "In order to create the mask, we need to \"blank out\" the sources, setting them to the minimum value found across the cube. We first need to find this minimum value."
   ]
  },
  {
   "cell_type": "code",
   "execution_count": null,
   "metadata": {},
   "outputs": [],
   "source": [
    "import numpy as np\n",
    "\n",
    "minimum = np.min(data)\n",
    "minimum"
   ]
  },
  {
   "cell_type": "code",
   "execution_count": null,
   "metadata": {},
   "outputs": [],
   "source": [
    "import math\n",
    "\n",
    "distance = lambda x1, x2, y1, y2: math.sqrt( (x2**2-x1**2) + (y2**2-y1**2))\n",
    "\n",
    "coordinate_pairs = [ (x, y) for x in range(-galaxy_radius, galaxy_radius+1)\n",
    "                     for y in range(-galaxy_radius, galaxy_radius+1)\n",
    "                     if distance(0, x, 0, y) <= galaxy_radius]\n",
    "\n",
    "def mask_galaxy(datos, x, y, layer):\n",
    "    for (x_offset, y_offset) in coordinate_pairs:\n",
    "        if 0 <= x+x_offset <= 2047 and 0 <= y+y_offset <= 2047:\n",
    "            data[layer, y+y_offset, x+x_offset] = minimum"
   ]
  },
  {
   "cell_type": "code",
   "execution_count": null,
   "metadata": {},
   "outputs": [],
   "source": [
    "import os\n",
    "\n",
    "for layer in range(num_layers):\n",
    "    frequency = initial_frequency + frequency_step*layer\n",
    "    catalog = os.path.join(\"results\", f\"results{frequency}kHz.cat\")\n",
    "    with open(catalog) as f:        \n",
    "        for line in f:\n",
    "            if line[0] == \"#\":\n",
    "                continue\n",
    "            (x, y) = (line.split()[pos_x_image], line.split()[pos_y_image])\n",
    "            mask_galaxy(data, round(float(x)), round(float(y)), layer)"
   ]
  },
  {
   "cell_type": "code",
   "execution_count": null,
   "metadata": {},
   "outputs": [],
   "source": [
    "hdu = fits.PrimaryHDU(data, header=header)\n",
    "new_hdulist = fits.HDUList([hdu])\n",
    "new_hdulist.writeto(\"mask.fits\")\n",
    "new_hdulist.close()"
   ]
  }
 ],
 "metadata": {
  "kernelspec": {
   "display_name": "Python 3 (ipykernel)",
   "language": "python",
   "name": "python3"
  },
  "language_info": {
   "codemirror_mode": {
    "name": "ipython",
    "version": 3
   },
   "file_extension": ".py",
   "mimetype": "text/x-python",
   "name": "python",
   "nbconvert_exporter": "python",
   "pygments_lexer": "ipython3",
   "version": "3.9.18"
  }
 },
 "nbformat": 4,
 "nbformat_minor": 4
}
